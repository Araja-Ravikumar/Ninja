{
 "cells": [
  {
   "cell_type": "markdown",
   "id": "4ace7b12-cd4f-463d-85b0-2ccc7cf33513",
   "metadata": {},
   "source": [
    "# Descriptive Statistics"
   ]
  },
  {
   "cell_type": "markdown",
   "id": "e6e2715f-e941-4ac5-84a9-678234ef4a0f",
   "metadata": {},
   "source": [
    "-----------"
   ]
  },
  {
   "cell_type": "markdown",
   "id": "e0dbefdf-659e-438c-a415-1097c8f6b8a9",
   "metadata": {},
   "source": [
    "## 1. Measures of Central Tendency"
   ]
  },
  {
   "cell_type": "markdown",
   "id": "758a337a-f449-4bfd-b841-f4dde9d52a55",
   "metadata": {},
   "source": [
    "--------------"
   ]
  },
  {
   "cell_type": "markdown",
   "id": "866913af-dd76-4cdd-b9f2-9f37005f3cd8",
   "metadata": {},
   "source": [
    "#### **1. Mean (Arithmetic Average)**  \n",
    "**Definition**:  \n",
    "- The mean is the sum of all values divided by the number of values.  \n",
    "- It's a way of summarizing a set of values with one representative number."
   ]
  },
  {
   "cell_type": "markdown",
   "id": "6e3d2aff-2199-45be-9d4f-33ec2775eda3",
   "metadata": {},
   "source": [
    "-----------"
   ]
  },
  {
   "attachments": {
    "3d40a84a-6fea-477c-aad0-467d3f32777f.png": {
     "image/png": "[encoded data removed]"
    }
   },
   "cell_type": "markdown",
   "id": "bc72c3fe-56e4-4413-9087-6627b80cf541",
   "metadata": {},
   "source": [
    "![image.png](attachment:3d40a84a-6fea-477c-aad0-467d3f32777f.png)"
   ]
  },
  {
   "cell_type": "markdown",
   "id": "faa4a67e-1f9e-4d80-a1d8-400303ce358e",
   "metadata": {},
   "source": [
    "**Key Properties**:  \n",
    "- Sensitive to **outliers** (extreme values can skew the mean).  \n",
    "- Used when data is **symmetrically distributed**.  "
   ]
  },
  {
   "cell_type": "markdown",
   "id": "e872b0fe-9c17-4956-930d-951251a1fb71",
   "metadata": {},
   "source": [
    "---------"
   ]
  },
  {
   "attachments": {
    "9237e36c-a38c-4c56-8389-ad07c8fd8a82.png": {
     "image/png": "[encoded data removed]"
    }
   },
   "cell_type": "markdown",
   "id": "b81728c8-40f3-4adf-9e2c-bdd4685efc6c",
   "metadata": {},
   "source": [
    "![image.png](attachment:9237e36c-a38c-4c56-8389-ad07c8fd8a82.png)"
   ]
  },
  {
   "cell_type": "markdown",
   "id": "e14e7f41-f8b0-47fd-aa12-375cb26d66ae",
   "metadata": {},
   "source": [
    "-------------"
   ]
  },
  {
   "cell_type": "markdown",
   "id": "5c56a075-ecad-402b-84bc-0e6c45d7526b",
   "metadata": {},
   "source": [
    "**When to Use**:  \n",
    "- For normally distributed data (e.g., heights, exam scores).  \n",
    "- When all data points are equally important.  "
   ]
  },
  {
   "cell_type": "markdown",
   "id": "a6a9d233-901d-415f-8515-065d5a820612",
   "metadata": {},
   "source": [
    "************\n",
    "************"
   ]
  },
  {
   "cell_type": "markdown",
   "id": "823fedf8-7947-49ab-9e6b-38d87e649d5e",
   "metadata": {},
   "source": [
    "#### **2. Median (Middle Value)**  \n",
    "**Definition**:  \n",
    "The median is the middle value in an ordered dataset.  \n",
    "\n",
    "--------------\n",
    "**Steps to Find Median**:  \n",
    "1. Arrange data in **ascending or descending order**.  \n",
    "2. If **odd** number of observations:  \n",
    "   - Median = Middle value.  \n",
    "3. If **even** number of observations:  \n",
    "   - Median = Average of two middle values.  \n",
    "\n",
    "--------------\n",
    "**Key Properties**:  \n",
    "- **Not affected by outliers** (robust measure).  \n",
    "- Better for **skewed distributions** (e.g., income, house prices).  \n",
    "\n",
    "--------------------"
   ]
  },
  {
   "attachments": {
    "afd7a07b-894b-4f20-b7be-b6c555a73b7a.png": {
     "image/png": "[encoded data removed]"
    }
   },
   "cell_type": "markdown",
   "id": "263e0b18-a1cd-401a-87fa-d370f64a08d3",
   "metadata": {},
   "source": [
    "![image.png](attachment:afd7a07b-894b-4f20-b7be-b6c555a73b7a.png)"
   ]
  },
  {
   "cell_type": "markdown",
   "id": "8b1e2e20-bec7-4932-91f6-656a2407cfb2",
   "metadata": {},
   "source": [
    "------------"
   ]
  },
  {
   "cell_type": "markdown",
   "id": "abada100-cd88-4b48-ad0e-ae7e76d4e67f",
   "metadata": {},
   "source": [
    "**When to Use**:  \n",
    "- When data has **outliers** or is **skewed**.  \n",
    "- For ordinal data (e.g., survey ratings).\n",
    "\n",
    "----------------\n",
    "-----------------"
   ]
  },
  {
   "cell_type": "markdown",
   "id": "7cb28f89-1456-466f-8e8d-7a7f4c381bdf",
   "metadata": {},
   "source": [
    "#### **3. Mode (Most Frequent Value)**  \n",
    "**Definition**:  \n",
    "The mode is the value that appears **most frequently** in a dataset.  \n",
    "\n",
    "-----------\n",
    "\n",
    "**Key Properties**:  \n",
    "- Can be **one mode (unimodal)**, **two modes (bimodal)**, or **no mode**.  \n",
    "- Used for **categorical data** (e.g., colors, brands).  \n",
    "\n",
    "-----------------\n",
    "\n",
    "**Example**:  \n",
    "- **Shoe Sizes Sold**: [7, 8, 8, 9, 9, 9, 10] → Mode = **9**  \n",
    "- **No Mode**: [1, 2, 3, 4] (all values appear once).  \n",
    "\n",
    "-------------------\n",
    "\n",
    "**When to Use**:  \n",
    "- For **nominal data** (categories like gender, car models).  \n",
    "- Identifying **most common** preferences (e.g., favorite ice cream flavor).\n",
    "\n",
    "----------------\n",
    "----------------"
   ]
  },
  {
   "cell_type": "markdown",
   "id": "e4f0f214-c360-49b3-a70c-36faae057c24",
   "metadata": {},
   "source": [
    "\n",
    "\n",
    "### **Comparison Summary**  \n",
    "| Measure  | Definition          | Sensitive to Outliers? | Best Used For                  | Example Use Case               |  \n",
    "|----------|--------------------|-----------------------|-------------------------------|--------------------------------|  \n",
    "| **Mean**  | Average value      | Yes                   | Symmetric data (normal dist.)  | Average exam score             |  \n",
    "| **Median**| Middle value       | No                    | Skewed data                   | Median household income        |  \n",
    "| **Mode**  | Most frequent value| No                    | Categorical data              | Most sold product size         |  \n",
    "\n"
   ]
  },
  {
   "cell_type": "markdown",
   "id": "ec820eae-4d0b-4f2d-9d3e-8c6db19271d2",
   "metadata": {},
   "source": [
    "----------"
   ]
  },
  {
   "cell_type": "markdown",
   "id": "6e643b9f-fb9f-4846-9d6b-63903229e0cc",
   "metadata": {},
   "source": [
    "### **Real-Life Observations to Learn These Concepts**  \n",
    "1. **Mean**:  \n",
    "   - Calculate your **average monthly phone usage** (total data / months).  \n",
    "   - Observe how weather reports give **average temperatures**.  \n",
    "\n",
    "2. **Median**:  \n",
    "   - Check **real estate listings**: Why do they report median home prices instead of mean?  \n",
    "   - Compare salaries in a company (CEO salary may skew the mean).  \n",
    "\n",
    "3. **Mode**:  \n",
    "   - Notice **best-selling products** on e-commerce sites (mode = most bought item).  \n",
    "   - Identify the **most common** blood type in your family.  "
   ]
  },
  {
   "cell_type": "markdown",
   "id": "d38ca184-c812-4d43-be1d-4d1fea902707",
   "metadata": {},
   "source": [
    "------------\n",
    "------------"
   ]
  },
  {
   "cell_type": "markdown",
   "id": "7d5b6f1c-a30d-47a3-ad9c-e88075f5d5dc",
   "metadata": {},
   "source": [
    "### **Key Takeaways**  \n",
    "- **Mean** = Best for symmetric data, but distorted by outliers.  \n",
    "- **Median** = Robust for skewed data (e.g., income, age).  \n",
    "- **Mode** = Only measure for categorical data (e.g., election results).  "
   ]
  },
  {
   "cell_type": "markdown",
   "id": "c88dd3de-1f41-4302-afaa-04a40af25094",
   "metadata": {},
   "source": [
    "----\n",
    "----"
   ]
  },
  {
   "cell_type": "markdown",
   "id": "ab242e0b-73ed-4335-9804-0f307382a293",
   "metadata": {},
   "source": [
    "# 2. Measures of Dispersion"
   ]
  },
  {
   "cell_type": "markdown",
   "id": "bf205a4c-e2bf-4150-aaeb-49ea03667d84",
   "metadata": {},
   "source": [
    "# **Measures of Dispersion: Detailed Notes**\n",
    "\n",
    "Measures of dispersion describe how spread out or varied a dataset is. They help us understand the variability in data beyond just the central tendency (mean, median, mode). The key measures include:\n",
    "\n",
    "1. **Range**  \n",
    "2. **Variance**  \n",
    "3. **Standard Deviation**  \n",
    "4. **Interquartile Range (IQR)**  "
   ]
  },
  {
   "cell_type": "markdown",
   "id": "d6c29246-cb18-4904-87e9-662d5723edd2",
   "metadata": {},
   "source": [
    "## **1. Range**\n",
    "### **Concept**\n",
    "- The simplest measure of dispersion.\n",
    "- Defined as the difference between the maximum and minimum values in a dataset.\n",
    "  \n",
    "**Formula:**  "
   ]
  },
  {
   "attachments": {
    "2d8d1770-5e3c-4c35-a7bf-30eeb8e1155a.png": {
     "image/png": "[encoded data removed]"
    }
   },
   "cell_type": "markdown",
   "id": "f89f5d46-c29b-47c8-98b8-ea895b22f990",
   "metadata": {},
   "source": [
    "![image.png](attachment:2d8d1770-5e3c-4c35-a7bf-30eeb8e1155a.png)"
   ]
  },
  {
   "cell_type": "markdown",
   "id": "86777198-c1f1-4d2d-bac9-b7509deae9e7",
   "metadata": {},
   "source": [
    "\n",
    "### **Usage**\n",
    "- Quick and easy to compute.\n",
    "- Useful for getting a rough idea of spread in small datasets.\n",
    "\n",
    "### **Limitations**\n",
    "- **Highly sensitive to outliers** (a single extreme value can distort the range).\n",
    "- **Does not consider all data points**, only the extremes.\n",
    "- **Not reliable for skewed distributions**.\n",
    "\n",
    "### **When to Use?**\n",
    "- For a quick initial assessment of variability.\n",
    "- When the dataset is small and free of extreme outliers.\n",
    "\n",
    "---\n",
    "---\n"
   ]
  },
  {
   "cell_type": "markdown",
   "id": "554d1873-7326-4d39-a425-8642fd7e3022",
   "metadata": {},
   "source": [
    "## **2. Variance**\n",
    "### **Concept**\n",
    "- Measures how far each data point is from the mean.\n",
    "- The average of the squared differences from the mean.\n",
    "\n",
    "**Formula (Population Variance):** "
   ]
  },
  {
   "attachments": {
    "e0cfa3d3-d30d-472a-8ea4-129e0161735a.png": {
     "image/png": "[encoded data removed]"
    }
   },
   "cell_type": "markdown",
   "id": "3f69f4ce-893b-4ca5-8c46-30dfa2b6607c",
   "metadata": {},
   "source": [
    "![image.png](attachment:e0cfa3d3-d30d-472a-8ea4-129e0161735a.png)"
   ]
  },
  {
   "cell_type": "markdown",
   "id": "ac70b295-0199-461c-ada0-6c8c6b396a1a",
   "metadata": {},
   "source": [
    "### **Usage**\n",
    "- Used in statistical tests (ANOVA, regression).\n",
    "- Helps in understanding data spread around the mean.\n",
    "\n",
    "### **Limitations**\n",
    "- **Squared units** make interpretation difficult (e.g., if data is in meters, variance is in m²).\n",
    "- **Sensitive to outliers** (squaring amplifies extreme values).\n",
    "\n",
    "### **When to Use?**\n",
    "- When working with parametric statistical models.\n",
    "- When the mean is the primary measure of central tendency.\n",
    "\n",
    "---\n",
    "---"
   ]
  },
  {
   "cell_type": "markdown",
   "id": "73458ebb-4618-400a-aec4-355c7123f4f3",
   "metadata": {},
   "source": [
    "## **3. Standard Deviation (SD)**\n",
    "### **Concept**\n",
    "- The square root of variance.\n",
    "- Provides dispersion in the same units as the original data."
   ]
  },
  {
   "attachments": {
    "2376ac7c-8803-415b-98dc-52cf488119df.png": {
     "image/png": "[encoded data removed]"
    }
   },
   "cell_type": "markdown",
   "id": "970be5aa-74ba-43a7-9587-7329cc812f22",
   "metadata": {},
   "source": [
    "![image.png](attachment:2376ac7c-8803-415b-98dc-52cf488119df.png)"
   ]
  },
  {
   "cell_type": "markdown",
   "id": "33ea2239-186c-4d13-9d55-594edfbb2339",
   "metadata": {},
   "source": [
    "\n",
    "### **Usage**\n",
    "- Most widely used measure of dispersion.\n",
    "- Helps in calculating confidence intervals and hypothesis testing.\n",
    "\n",
    "### **Limitations**\n",
    "- Still **affected by outliers**, though less than variance.\n",
    "- **Assumes normal distribution** for many statistical applications.\n",
    "\n",
    "### **When to Use?**\n",
    "- When the data is normally distributed.\n",
    "- When comparing variability across different datasets.\n",
    "\n",
    "---\n",
    "---"
   ]
  },
  {
   "cell_type": "markdown",
   "id": "eee7ada9-ded2-471e-b765-0dcd44b8f93d",
   "metadata": {},
   "source": [
    "## **4. Interquartile Range (IQR)**\n",
    "### **Concept**\n",
    "- Measures the spread of the middle 50% of data.\n",
    "- Calculated as the difference between the 75th percentile (Q3) and the 25th percentile (Q1).\n",
    "\n",
    "**Formula:**  "
   ]
  },
  {
   "attachments": {
    "34d32695-7e48-4883-a2d3-d616fb73b52a.png": {
     "image/png": "[encoded data removed]"
    }
   },
   "cell_type": "markdown",
   "id": "dcb79b7f-ff78-4a7c-a07c-0c03bbaa17a6",
   "metadata": {},
   "source": [
    "![image.png](attachment:34d32695-7e48-4883-a2d3-d616fb73b52a.png)"
   ]
  },
  {
   "cell_type": "markdown",
   "id": "80cf45ea-93a1-4046-b682-d8ba5cd3cea4",
   "metadata": {},
   "source": [
    "\n",
    "### **Limitations**\n",
    "- **Ignores data outside Q1 and Q3**.\n",
    "- **Less intuitive** than SD for normally distributed data.\n",
    "\n",
    "### **When to Use?**\n",
    "- For skewed distributions or datasets with outliers.\n",
    "- When median is the preferred measure of central tendency.\n",
    "\n",
    "---\n",
    "---"
   ]
  },
  {
   "cell_type": "markdown",
   "id": "cfd61f98-b237-458b-9be8-dafd62904110",
   "metadata": {},
   "source": [
    "## **Comparison & When to Use Which Measure**\n",
    "\n",
    "| Measure          | Best Used When... | Sensitive to Outliers? | Units | Works Best With |\n",
    "|------------------|-------------------|-----------------------|-------|----------------|\n",
    "| **Range**        | Quick estimate    | **Highly sensitive**  | Same as data | Small, outlier-free data |\n",
    "| **Variance**     | Statistical models | **Sensitive**         | Squared units | Normally distributed data |\n",
    "| **Standard Deviation** | General use | **Moderately sensitive** | Same as data | Normally distributed data |\n",
    "| **IQR**          | Skewed data       | **Robust**            | Same as data | Non-normal or outlier-prone data |\n",
    "\n",
    "---\n",
    "\n",
    "## **Key Takeaways**\n",
    "- **For normally distributed data**: Use **Standard Deviation** (most consistent).\n",
    "- **For skewed data or outliers**: Use **IQR** (more robust).\n",
    "- **For quick assessment**: Use **Range** (but be cautious of outliers).\n",
    "- **For statistical modeling**: Use **Variance** (foundational for many tests)."
   ]
  },
  {
   "cell_type": "markdown",
   "id": "1de111ff-8dfd-4743-93f3-e8984092023b",
   "metadata": {},
   "source": [
    "-------\n",
    "-------"
   ]
  },
  {
   "cell_type": "markdown",
   "id": "772fa861-8a4d-4e97-8950-c80c9f97832d",
   "metadata": {},
   "source": [
    "# 3 . Probability Distributions"
   ]
  },
  {
   "cell_type": "code",
   "execution_count": null,
   "id": "d66da763-45f3-45c1-8703-43852e87a45a",
   "metadata": {},
   "outputs": [],
   "source": []
  },
  {
   "cell_type": "markdown",
   "id": "b706e521-97d5-4344-a1e7-94b21916fc06",
   "metadata": {},
   "source": [
    "\n",
    "### **1. Statistics and Statistical Models**  \n",
    "\n",
    "#### **A. Descriptive Statistics**  \n",
    "1. **Measures of Central Tendency**  \n",
    "   - Mean, Median, Mode  \n",
    "2. **Measures of Dispersion**  \n",
    "   - Range, Variance, Standard Deviation, IQR  \n",
    "3. **Probability Distributions**  \n",
    "   - Discrete vs. Continuous Distributions  \n",
    "   - Gaussian (Normal) Distribution  \n",
    "   - Skewness and Kurtosis  \n",
    "4. **Regression Analysis**  \n",
    "   - Linear Regression  \n",
    "   - Non-Linear Regression  \n",
    "   - Goodness of Fit (R², Adjusted R²)  \n",
    "5. **Normality and Model Assumptions**  \n",
    "   - Normality Tests (Shapiro-Wilk, KS Test)  \n",
    "   - Homoscedasticity  \n",
    "6. **Analysis of Variance (ANOVA)**  \n",
    "   - One-Way ANOVA  \n",
    "   - Two-Way ANOVA  \n",
    "\n",
    "#### **B. Inferential Statistics**  \n",
    "1. **Hypothesis Testing**  \n",
    "   - Null & Alternative Hypotheses  \n",
    "   - Type I & Type II Errors  \n",
    "   - p-values & Significance Levels  \n",
    "2. **Parametric Tests**  \n",
    "   - **t-Tests**  \n",
    "     - One-Sample t-Test  \n",
    "     - Independent (Two-Sample) t-Test  \n",
    "     - Paired t-Test  \n",
    "   - **z-Test**  \n",
    "   - **ANOVA** (One-Way, Two-Way)  \n",
    "3. **Non-Parametric Tests**  \n",
    "   - Chi-Square Test (Goodness-of-Fit, Independence)  \n",
    "4. **Data Types in Testing**  \n",
    "   - Continuous Data (t-Test, z-Test, ANOVA)  \n",
    "   - Categorical Data (Chi-Square, Logistic Regression)  \n"
   ]
  },
  {
   "cell_type": "code",
   "execution_count": null,
   "id": "8effe2c7-6714-4cb8-bc8d-f9246aea57fe",
   "metadata": {},
   "outputs": [],
   "source": []
  }
 ],
 "metadata": {
  "kernelspec": {
   "display_name": "Python 3 (ipykernel)",
   "language": "python",
   "name": "python3"
  },
  "language_info": {
   "codemirror_mode": {
    "name": "ipython",
    "version": 3
   },
   "file_extension": ".py",
   "mimetype": "text/x-python",
   "name": "python",
   "nbconvert_exporter": "python",
   "pygments_lexer": "ipython3",
   "version": "3.12.6"
  }
 },
 "nbformat": 4,
 "nbformat_minor": 5
}
