{
 "cells": [
  {
   "cell_type": "markdown",
   "id": "94153ff2-3f70-4c21-bb87-396b6b35528f",
   "metadata": {},
   "source": [
    "# <font color = 'blue'>1. Negetive indexing slicing<font/>"
   ]
  },
  {
   "cell_type": "markdown",
   "id": "8bc81468-2f58-46e7-abe9-d706f34dc8c4",
   "metadata": {},
   "source": []
  }
 ],
 "metadata": {
  "kernelspec": {
   "display_name": "Python 3 (ipykernel)",
   "language": "python",
   "name": "python3"
  },
  "language_info": {
   "codemirror_mode": {
    "name": "ipython",
    "version": 3
   },
   "file_extension": ".py",
   "mimetype": "text/x-python",
   "name": "python",
   "nbconvert_exporter": "python",
   "pygments_lexer": "ipython3",
   "version": "3.12.6"
  }
 },
 "nbformat": 4,
 "nbformat_minor": 5
}
