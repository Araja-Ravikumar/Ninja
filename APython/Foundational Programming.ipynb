{
 "cells": [
  {
   "cell_type": "code",
   "execution_count": 1,
   "id": "96a522f1-56fd-4f39-8e82-205ebbefbc37",
   "metadata": {},
   "outputs": [
    {
     "data": {
      "text/plain": [
       "5"
      ]
     },
     "execution_count": 1,
     "metadata": {},
     "output_type": "execute_result"
    }
   ],
   "source": [
    "2 + 3"
   ]
  },
  {
   "cell_type": "code",
   "execution_count": 2,
   "id": "8b45ad6b-c973-4efb-85a7-56bd17e56efc",
   "metadata": {},
   "outputs": [
    {
     "data": {
      "text/plain": [
       "-22"
      ]
     },
     "execution_count": 2,
     "metadata": {},
     "output_type": "execute_result"
    }
   ],
   "source": [
    "12-34"
   ]
  },
  {
   "cell_type": "code",
   "execution_count": 3,
   "id": "e0b5db5f-1317-4faf-bd07-6fbce3c9d18e",
   "metadata": {},
   "outputs": [
    {
     "data": {
      "text/plain": [
       "3888"
      ]
     },
     "execution_count": 3,
     "metadata": {},
     "output_type": "execute_result"
    }
   ],
   "source": [
    "12*324"
   ]
  },
  {
   "cell_type": "code",
   "execution_count": 4,
   "id": "64f595fe-dbcd-46c3-992a-ab8963327060",
   "metadata": {},
   "outputs": [
    {
     "data": {
      "text/plain": [
       "4"
      ]
     },
     "execution_count": 4,
     "metadata": {},
     "output_type": "execute_result"
    }
   ],
   "source": [
    "12//3"
   ]
  },
  {
   "cell_type": "code",
   "execution_count": 5,
   "id": "f19a6379-877c-4898-9920-78d8c8732b77",
   "metadata": {},
   "outputs": [
    {
     "data": {
      "text/plain": [
       "3"
      ]
     },
     "execution_count": 5,
     "metadata": {},
     "output_type": "execute_result"
    }
   ],
   "source": [
    "12//4"
   ]
  },
  {
   "cell_type": "code",
   "execution_count": 6,
   "id": "fa27b5cd-d37a-4702-887a-2989b00cd608",
   "metadata": {},
   "outputs": [
    {
     "name": "stdout",
     "output_type": "stream",
     "text": [
      "6\n"
     ]
    }
   ],
   "source": [
    "print(2+4)"
   ]
  },
  {
   "cell_type": "code",
   "execution_count": 7,
   "id": "8fe3c1de-fc58-418b-8d37-401b8ef2f6b6",
   "metadata": {},
   "outputs": [],
   "source": [
    "a = 123"
   ]
  },
  {
   "cell_type": "code",
   "execution_count": 8,
   "id": "ad3c8b06-1b79-4405-b30a-3477385529bc",
   "metadata": {},
   "outputs": [
    {
     "data": {
      "text/plain": [
       "123"
      ]
     },
     "execution_count": 8,
     "metadata": {},
     "output_type": "execute_result"
    }
   ],
   "source": [
    "a"
   ]
  },
  {
   "cell_type": "code",
   "execution_count": 9,
   "id": "19a04bfa-7714-4f48-b21a-8dc5765e2d92",
   "metadata": {},
   "outputs": [
    {
     "name": "stdin",
     "output_type": "stream",
     "text": [
      "Please Enter value : hi welcome\n"
     ]
    }
   ],
   "source": [
    "a = input(\"Please Enter value :\")\n",
    "# int, float, bool, str(default)"
   ]
  },
  {
   "cell_type": "code",
   "execution_count": null,
   "id": "a98e4537-f1d8-448b-8617-756514c815ba",
   "metadata": {},
   "outputs": [],
   "source": []
  }
 ],
 "metadata": {
  "kernelspec": {
   "display_name": "Python 3 (ipykernel)",
   "language": "python",
   "name": "python3"
  },
  "language_info": {
   "codemirror_mode": {
    "name": "ipython",
    "version": 3
   },
   "file_extension": ".py",
   "mimetype": "text/x-python",
   "name": "python",
   "nbconvert_exporter": "python",
   "pygments_lexer": "ipython3",
   "version": "3.12.6"
  }
 },
 "nbformat": 4,
 "nbformat_minor": 5
}
