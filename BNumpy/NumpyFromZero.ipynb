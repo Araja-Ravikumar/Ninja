{
 "cells": [
  {
   "cell_type": "markdown",
   "id": "c36c4013-1b85-41cd-808e-71f44755ba80",
   "metadata": {},
   "source": [
    "# Numpy"
   ]
  },
  {
   "cell_type": "markdown",
   "id": "56e7844d-d468-441e-bf3d-e800f7765529",
   "metadata": {},
   "source": [
    "------------"
   ]
  },
  {
   "cell_type": "markdown",
   "id": "654b0143-2962-4cdf-987e-841b5df91f20",
   "metadata": {},
   "source": [
    "- It is Fundamental package for scientific Computing.\n",
    "- pip install numpy ( install)\n",
    "- import numpy as np (call the numpy)"
   ]
  },
  {
   "cell_type": "code",
   "execution_count": null,
   "id": "01f66149-f55e-40c3-a6ef-2d1f9c19688d",
   "metadata": {},
   "outputs": [],
   "source": []
  },
  {
   "cell_type": "markdown",
   "id": "4269b2bb-4287-4220-af3b-c897d4c12d38",
   "metadata": {},
   "source": [
    "# Introduction of Numpy Array"
   ]
  },
  {
   "cell_type": "code",
   "execution_count": 1,
   "id": "5c460900-2ecb-4dfa-9d22-cd72217795bb",
   "metadata": {},
   "outputs": [],
   "source": [
    "import numpy as np"
   ]
  },
  {
   "cell_type": "code",
   "execution_count": 14,
   "id": "1614b222-a205-446a-814f-d1c588036d9c",
   "metadata": {},
   "outputs": [
    {
     "name": "stdout",
     "output_type": "stream",
     "text": [
      "[0 1 2 3 4 5 6 7 8 9]\n",
      "<class 'numpy.ndarray'>\n",
      "(10,)\n",
      "10\n",
      "10\n"
     ]
    }
   ],
   "source": [
    "# creatin 1D array\n",
    "arr_1d = np.array([0,1,2,3,4,5,6,7,8,9])\n",
    "print(arr_1d) # display the arr_1d\n",
    "print(type(arr_1d)) # data type\n",
    "print(arr_1d.shape) # number of dimensions and its length across those dimensions\n",
    "print(arr_1d.size) # Total Number of elements in the array\n",
    "print(len(arr_1d))"
   ]
  },
  {
   "cell_type": "markdown",
   "id": "c22166f4-8a10-4f00-98ea-890a2b432ede",
   "metadata": {},
   "source": [
    "----"
   ]
  },
  {
   "cell_type": "code",
   "execution_count": 15,
   "id": "624a14bd-b0d8-46f7-ace0-65793a4e554b",
   "metadata": {},
   "outputs": [
    {
     "name": "stdout",
     "output_type": "stream",
     "text": [
      "[[0 1 2 3 4 5 6 7 8 9]\n",
      " [0 1 2 3 4 5 6 7 8 9]]\n",
      "<class 'numpy.ndarray'>\n",
      "(2, 10)\n",
      "20\n",
      "2\n"
     ]
    }
   ],
   "source": [
    "# creatin 2D array\n",
    "arr_2d = np.array([[0,1,2,3,4,5,6,7,8,9],[0,1,2,3,4,5,6,7,8,9]])\n",
    "print(arr_2d) # display the arr_1d\n",
    "print(type(arr_2d)) # data type\n",
    "print(arr_2d.shape) # number of dimensions and its length across those dimensions\n",
    "print(arr_2d.size) # # Total Number of elements in the array\n",
    "print(len(arr_2d))"
   ]
  },
  {
   "cell_type": "markdown",
   "id": "6d34d013-0da3-46d2-baf4-91dc8c38cf03",
   "metadata": {},
   "source": [
    "-----------"
   ]
  },
  {
   "cell_type": "code",
   "execution_count": 32,
   "id": "cb5ae1ad-b9fd-4e2c-85e9-9cf4baa11b90",
   "metadata": {},
   "outputs": [
    {
     "name": "stdout",
     "output_type": "stream",
     "text": [
      "[[[0 1 2 3 4 5 6 7 8 9]\n",
      "  [0 1 2 3 4 5 6 7 8 9]]\n",
      "\n",
      " [[0 1 2 3 4 5 6 7 8 9]\n",
      "  [0 1 2 3 4 5 6 7 8 9]]]\n",
      "<class 'numpy.ndarray'>\n",
      "(2, 2, 10)\n",
      "40\n",
      "2\n",
      "3\n"
     ]
    }
   ],
   "source": [
    "# creatin 3D array\n",
    "arr_3d = np.array([[[0,1,2,3,4,5,6,7,8,9],[0,1,2,3,4,5,6,7,8,9]],[[0,1,2,3,4,5,6,7,8,9],[0,1,2,3,4,5,6,7,8,9]]])\n",
    "print(arr_3d) # display the arr_1d\n",
    "print(type(arr_3d)) # data type\n",
    "print(arr_3d.shape) # number of dimensions(no of values in tuple) and its length across those dimensions\n",
    "print(arr_3d.size) # Total Number of elements in the array\n",
    "print(len(arr_3d))\n",
    "print(arr_3d.ndim) # Number of dimentsions "
   ]
  },
  {
   "cell_type": "markdown",
   "id": "b6fe4264-36fd-4caa-b802-dbac5aae8f56",
   "metadata": {},
   "source": [
    "--------"
   ]
  },
  {
   "cell_type": "code",
   "execution_count": 25,
   "id": "25a7c9bd-b980-4a1c-9719-edd88e9eae32",
   "metadata": {},
   "outputs": [
    {
     "name": "stdout",
     "output_type": "stream",
     "text": [
      "[[0. 0.]\n",
      " [0. 0.]\n",
      " [0. 0.]]\n"
     ]
    }
   ],
   "source": [
    "# create an Array with Zeros\n",
    "arr_zero = np.zeros((3,2))\n",
    "print(arr_zero)"
   ]
  },
  {
   "cell_type": "code",
   "execution_count": 26,
   "id": "0362c604-590d-4fbe-8e55-7dbe7caa3ad0",
   "metadata": {},
   "outputs": [
    {
     "name": "stdout",
     "output_type": "stream",
     "text": [
      "[[1. 1.]\n",
      " [1. 1.]\n",
      " [1. 1.]]\n"
     ]
    }
   ],
   "source": [
    "# create an Array with ones\n",
    "arr_ones = np.ones((3,2))\n",
    "print(arr_ones)"
   ]
  },
  {
   "cell_type": "code",
   "execution_count": 30,
   "id": "69af62a2-befd-4f5f-acbb-a6511c4fbd8d",
   "metadata": {},
   "outputs": [
    {
     "name": "stdout",
     "output_type": "stream",
     "text": [
      "[[1. 0. 0. 0.]\n",
      " [0. 1. 0. 0.]\n",
      " [0. 0. 1. 0.]\n",
      " [0. 0. 0. 1.]]\n"
     ]
    }
   ],
   "source": [
    "# creating an Identity matrix\n",
    "iden_matrix = np.eye(4)\n",
    "print(iden_matrix)"
   ]
  },
  {
   "cell_type": "code",
   "execution_count": 31,
   "id": "4a93637a-4e6c-4b90-9b4e-ae5a35364cd5",
   "metadata": {},
   "outputs": [
    {
     "data": {
      "text/plain": [
       "array([0, 2, 4, 6, 8])"
      ]
     },
     "execution_count": 31,
     "metadata": {},
     "output_type": "execute_result"
    }
   ],
   "source": [
    "# create an Array with a range\n",
    "arr_range = np.arange(0,10,2) # start, stop, step\n",
    "arr_range"
   ]
  },
  {
   "cell_type": "code",
   "execution_count": 39,
   "id": "8ccb86fb-d3ef-49ec-bb6c-f15c9f0790d4",
   "metadata": {},
   "outputs": [],
   "source": [
    "# indexing part of arrays"
   ]
  },
  {
   "cell_type": "code",
   "execution_count": 44,
   "id": "7bb04003-a28c-43ed-b4af-4d3d5d65dc55",
   "metadata": {},
   "outputs": [
    {
     "name": "stdout",
     "output_type": "stream",
     "text": [
      "(2, 2, 3)\n",
      "3\n",
      "2\n",
      "12\n"
     ]
    }
   ],
   "source": [
    "arr_3d = np.array([[[1,2,3],[5,6,7]],[[10,11,12],[14,15,16]]])\n",
    "print(arr_3d.shape)\n",
    "print(arr_3d.ndim)\n",
    "print(len(arr_3d))\n",
    "print(arr_3d.size)"
   ]
  },
  {
   "cell_type": "code",
   "execution_count": 42,
   "id": "fd87e508-eb6d-4711-928d-714079897fc1",
   "metadata": {},
   "outputs": [
    {
     "data": {
      "text/plain": [
       "array([[[ 1,  2,  3],\n",
       "        [ 5,  6,  7]],\n",
       "\n",
       "       [[10, 11, 12],\n",
       "        [14, 15, 16]]])"
      ]
     },
     "execution_count": 42,
     "metadata": {},
     "output_type": "execute_result"
    }
   ],
   "source": [
    "arr_3d"
   ]
  },
  {
   "cell_type": "markdown",
   "id": "c04cd5a7-866c-41ce-b803-0ad349c76e2d",
   "metadata": {},
   "source": [
    "# Home Work"
   ]
  },
  {
   "cell_type": "markdown",
   "id": "89103a91-32cf-46d5-8ab4-ffb46e72543e",
   "metadata": {},
   "source": [
    "# I want to exclude 1,5,10,14, elements from this array ?"
   ]
  },
  {
   "cell_type": "markdown",
   "id": "b66bc30d-e685-47da-affa-e75d3f6b8357",
   "metadata": {},
   "source": [
    "---------------------"
   ]
  },
  {
   "cell_type": "markdown",
   "id": "1553a92d-af48-402b-96e2-4431e7cf33ed",
   "metadata": {},
   "source": [
    "# Boolean Indexing"
   ]
  },
  {
   "cell_type": "code",
   "execution_count": 46,
   "id": "d16fb6b6-c503-4913-b1d5-513fa8eb6950",
   "metadata": {},
   "outputs": [
    {
     "name": "stdout",
     "output_type": "stream",
     "text": [
      "[10 17 24 31 38 45 52 59 66 73 80 87 94]\n"
     ]
    }
   ],
   "source": [
    "a = np.arange(10,100,7)\n",
    "print(a)"
   ]
  },
  {
   "cell_type": "code",
   "execution_count": 48,
   "id": "6e13c5f8-b221-4870-93cc-e9fd335c20c0",
   "metadata": {},
   "outputs": [
    {
     "data": {
      "text/plain": [
       "array([52, 59, 66, 73, 80, 87, 94])"
      ]
     },
     "execution_count": 48,
     "metadata": {},
     "output_type": "execute_result"
    }
   ],
   "source": [
    "a[a>50]"
   ]
  },
  {
   "cell_type": "code",
   "execution_count": 49,
   "id": "4b1b042d-82d4-4287-8733-88e35a75780b",
   "metadata": {},
   "outputs": [
    {
     "data": {
      "text/plain": [
       "array([10, 17, 24, 31, 38])"
      ]
     },
     "execution_count": 49,
     "metadata": {},
     "output_type": "execute_result"
    }
   ],
   "source": [
    "a[a<45]"
   ]
  },
  {
   "cell_type": "code",
   "execution_count": 50,
   "id": "d06c84a1-54ae-462a-95f8-ba00c013cc56",
   "metadata": {},
   "outputs": [
    {
     "data": {
      "text/plain": [
       "array([10, 17, 24, 31, 38])"
      ]
     },
     "execution_count": 50,
     "metadata": {},
     "output_type": "execute_result"
    }
   ],
   "source": [
    "\n",
    "a[a<=38]"
   ]
  },
  {
   "cell_type": "code",
   "execution_count": 51,
   "id": "67954896-69c0-4961-8225-c9fa3d83130d",
   "metadata": {},
   "outputs": [
    {
     "data": {
      "text/plain": [
       "array([10, 24, 38, 52, 66, 80, 94])"
      ]
     },
     "execution_count": 51,
     "metadata": {},
     "output_type": "execute_result"
    }
   ],
   "source": [
    "a[a%2==0]"
   ]
  },
  {
   "cell_type": "markdown",
   "id": "5ddadb14-2a99-4dcd-a52e-38d123d611d4",
   "metadata": {},
   "source": [
    "---------------"
   ]
  },
  {
   "cell_type": "markdown",
   "id": "bea69322-3e03-471b-9090-238504a4fb1c",
   "metadata": {},
   "source": [
    "# Array Operations"
   ]
  },
  {
   "cell_type": "code",
   "execution_count": 52,
   "id": "94778b5a-a488-4da5-8582-f64069d0b6d1",
   "metadata": {},
   "outputs": [
    {
     "name": "stdout",
     "output_type": "stream",
     "text": [
      "Addition: [5 7 9]\n",
      "Subtraction: [-3 -3 -3]\n",
      "Multiplication: [ 4 10 18]\n",
      "Division: [4.  2.5 2. ]\n",
      "Exponentiation: [1 4 9]\n"
     ]
    }
   ],
   "source": [
    "a = np.array([1, 2, 3])\n",
    "b = np.array([4, 5, 6])\n",
    "\n",
    "print(\"Addition:\", a + b)\n",
    "print(\"Subtraction:\", a - b)\n",
    "print(\"Multiplication:\", a * b)  # Element-wise\n",
    "print(\"Division:\", b / a)\n",
    "print(\"Exponentiation:\", a ** 2)"
   ]
  },
  {
   "cell_type": "markdown",
   "id": "6a2eec37-3adc-46b5-94b9-cda2c41a9483",
   "metadata": {},
   "source": [
    "---------------"
   ]
  },
  {
   "cell_type": "markdown",
   "id": "a79d4eba-a230-46de-96d0-379d88f71ad5",
   "metadata": {},
   "source": [
    "# Aggregated Functions"
   ]
  },
  {
   "cell_type": "code",
   "execution_count": 53,
   "id": "40ef69c6-6ca3-48a1-9d1a-e4c663c6f227",
   "metadata": {},
   "outputs": [
    {
     "name": "stdout",
     "output_type": "stream",
     "text": [
      "Sum of all elements: 21\n",
      "Sum along columns: [5 7 9]\n",
      "Sum along rows: [ 6 15]\n",
      "Mean: 3.5\n",
      "Standard deviation: 1.707825127659933\n",
      "Minimum value: 1\n",
      "Maximum value: 6\n",
      "Index of max value: 5\n"
     ]
    }
   ],
   "source": [
    "arr = np.array([[1, 2, 3], [4, 5, 6]])\n",
    "\n",
    "print(\"Sum of all elements:\", np.sum(arr))\n",
    "print(\"Sum along columns:\", np.sum(arr, axis=0))  # axis = 0 Rows\n",
    "print(\"Sum along rows:\", np.sum(arr, axis=1)) # axis = 1 columns\n",
    "print(\"Mean:\", np.mean(arr))\n",
    "print(\"Standard deviation:\", np.std(arr))\n",
    "print(\"Minimum value:\", np.min(arr))\n",
    "print(\"Maximum value:\", np.max(arr))\n",
    "print(\"Index of max value:\", np.argmax(arr))"
   ]
  },
  {
   "cell_type": "markdown",
   "id": "73d266eb-871e-4abd-91bf-94d7bd46b5cd",
   "metadata": {},
   "source": [
    "---------------"
   ]
  },
  {
   "cell_type": "markdown",
   "id": "077073fb-b731-4132-87fc-6efecb806b2f",
   "metadata": {},
   "source": [
    "# Broadcasting"
   ]
  },
  {
   "cell_type": "code",
   "execution_count": 59,
   "id": "a491b85b-4f35-477b-8157-bcd4b234bd6f",
   "metadata": {},
   "outputs": [
    {
     "name": "stdout",
     "output_type": "stream",
     "text": [
      "[[10 11 12]\n",
      " [13 14 15]]\n"
     ]
    }
   ],
   "source": [
    "arr = np.array([[1, 2, 3], [4, 5, 6]])\n",
    "# Adding scalar to array\n",
    "print(arr + 9)\n"
   ]
  },
  {
   "cell_type": "code",
   "execution_count": 56,
   "id": "5e32ea4e-0046-4652-a9f5-6c94c027a2a5",
   "metadata": {},
   "outputs": [
    {
     "name": "stdout",
     "output_type": "stream",
     "text": [
      "[[ 2  4  6]\n",
      " [ 8 10 12]]\n"
     ]
    }
   ],
   "source": [
    "# Multiply array by scalar\n",
    "print(arr*2)"
   ]
  },
  {
   "cell_type": "code",
   "execution_count": 60,
   "id": "c9ad5904-265d-419d-9e1d-15142dca2f60",
   "metadata": {},
   "outputs": [
    {
     "data": {
      "text/plain": [
       "array([[10, 11, 12],\n",
       "       [13, 14, 15]])"
      ]
     },
     "execution_count": 60,
     "metadata": {},
     "output_type": "execute_result"
    }
   ],
   "source": [
    "sarr = np.array([9,9,9])\n",
    "arr+sarr"
   ]
  },
  {
   "cell_type": "markdown",
   "id": "c9c9d861-6f74-4e20-a704-f9069ba1a444",
   "metadata": {},
   "source": [
    "----------------"
   ]
  },
  {
   "cell_type": "markdown",
   "id": "036a9ac6-7f64-4816-8cb2-98d4cadaaeb8",
   "metadata": {},
   "source": [
    "# 4. Reshaping and Combining Arrays"
   ]
  },
  {
   "cell_type": "code",
   "execution_count": 61,
   "id": "53c9d6d7-58e2-4a62-a491-9bb538864c47",
   "metadata": {},
   "outputs": [
    {
     "name": "stdout",
     "output_type": "stream",
     "text": [
      "Reshaped array:\n",
      " [[ 0  1  2  3]\n",
      " [ 4  5  6  7]\n",
      " [ 8  9 10 11]]\n",
      "Flattened array: [ 0  1  2  3  4  5  6  7  8  9 10 11]\n",
      "Transposed array:\n",
      " [[ 0  4  8]\n",
      " [ 1  5  9]\n",
      " [ 2  6 10]\n",
      " [ 3  7 11]]\n"
     ]
    }
   ],
   "source": [
    "arr = np.arange(12)\n",
    "\n",
    "# Reshape to 3x4\n",
    "reshaped = arr.reshape(3, 4)\n",
    "print(\"Reshaped array:\\n\", reshaped)\n",
    "\n",
    "# Flatten array\n",
    "flattened = reshaped.flatten()\n",
    "print(\"Flattened array:\", flattened)\n",
    "\n",
    "# Transpose\n",
    "transposed = reshaped.T\n",
    "print(\"Transposed array:\\n\", transposed)"
   ]
  },
  {
   "cell_type": "markdown",
   "id": "88af4673-d638-4387-997e-05fec3d111ba",
   "metadata": {},
   "source": [
    "---------------"
   ]
  },
  {
   "cell_type": "markdown",
   "id": "73490046-a1b5-434f-a2e4-9ac5600dd659",
   "metadata": {},
   "source": [
    "# Combining Arrays"
   ]
  },
  {
   "cell_type": "code",
   "execution_count": 62,
   "id": "a850ebb8-c030-42cf-a7de-fd4d89e468e5",
   "metadata": {},
   "outputs": [
    {
     "name": "stdout",
     "output_type": "stream",
     "text": [
      "Vertical stack:\n",
      " [[1 2 3]\n",
      " [4 5 6]]\n",
      "Horizontal stack: [1 2 3 4 5 6]\n",
      "Concatenated:\n",
      " [[1 2]\n",
      " [3 4]\n",
      " [5 6]]\n"
     ]
    }
   ],
   "source": [
    "a = np.array([1, 2, 3])\n",
    "b = np.array([4, 5, 6])\n",
    "\n",
    "# Stack vertically\n",
    "vstack = np.vstack((a, b))\n",
    "print(\"Vertical stack:\\n\", vstack)\n",
    "\n",
    "# Stack horizontally\n",
    "hstack = np.hstack((a, b))\n",
    "print(\"Horizontal stack:\", hstack)\n",
    "\n",
    "# Concatenate along axis\n",
    "arr1 = np.array([[1, 2], [3, 4]])\n",
    "arr2 = np.array([[5, 6]])\n",
    "concatenated = np.concatenate((arr1, arr2), axis=0)\n",
    "print(\"Concatenated:\\n\", concatenated)"
   ]
  },
  {
   "cell_type": "markdown",
   "id": "192f4b47-188f-4a3e-bcce-711331662ab9",
   "metadata": {},
   "source": [
    "----"
   ]
  },
  {
   "cell_type": "markdown",
   "id": "5a5b98dc-f207-45c6-aea5-a715b84fe120",
   "metadata": {},
   "source": [
    "# 5. Advanced Array Operations"
   ]
  },
  {
   "cell_type": "markdown",
   "id": "6f27c395-193d-4bc6-b019-b1e3389e3585",
   "metadata": {},
   "source": [
    "## Universal Functions (ufuncs)"
   ]
  },
  {
   "cell_type": "code",
   "execution_count": 63,
   "id": "0e79b2cd-8bc2-43c9-8d15-06aa6827188b",
   "metadata": {},
   "outputs": [
    {
     "name": "stdout",
     "output_type": "stream",
     "text": [
      "Square roots: [1. 2. 3. 4. 5.]\n",
      "Exponentials: [2.71828183e+00 5.45981500e+01 8.10308393e+03 8.88611052e+06\n",
      " 7.20048993e+10]\n",
      "Logarithms: [0.         1.38629436 2.19722458 2.77258872 3.21887582]\n",
      "Absolute values: [1 2 3]\n",
      "Trigonometric functions: [0.0000000e+00 1.0000000e+00 1.2246468e-16]\n"
     ]
    }
   ],
   "source": [
    "arr = np.array([1, 4, 9, 16, 25])\n",
    "\n",
    "print(\"Square roots:\", np.sqrt(arr))\n",
    "print(\"Exponentials:\", np.exp(arr))\n",
    "print(\"Logarithms:\", np.log(arr))\n",
    "print(\"Absolute values:\", np.abs(np.array([-1, -2, 3])))\n",
    "print(\"Trigonometric functions:\", np.sin(np.array([0, np.pi/2, np.pi])))"
   ]
  },
  {
   "cell_type": "markdown",
   "id": "0f76471c-b279-4376-af1e-711723b89775",
   "metadata": {},
   "source": [
    "## Sorting"
   ]
  },
  {
   "cell_type": "code",
   "execution_count": 64,
   "id": "0cce05b1-9a5d-4264-b84b-096e17c4cd72",
   "metadata": {},
   "outputs": [
    {
     "name": "stdout",
     "output_type": "stream",
     "text": [
      "Sorted array: [1 2 3 4 5]\n",
      "Indices that would sort: [1 3 0 2 4]\n",
      "Sorted along rows:\n",
      " [[2 3]\n",
      " [1 4]]\n",
      "Sorted along columns:\n",
      " [[1 2]\n",
      " [3 4]]\n"
     ]
    }
   ],
   "source": [
    "arr = np.array([3, 1, 4, 2, 5])\n",
    "\n",
    "print(\"Sorted array:\", np.sort(arr))\n",
    "print(\"Indices that would sort:\", np.argsort(arr))\n",
    "\n",
    "# Sort 2D array\n",
    "arr2d = np.array([[3, 2], [1, 4]])\n",
    "print(\"Sorted along rows:\\n\", np.sort(arr2d, axis=1))\n",
    "print(\"Sorted along columns:\\n\", np.sort(arr2d, axis=0))"
   ]
  },
  {
   "cell_type": "markdown",
   "id": "68d49723-d452-4a32-9471-7e951c6a4ffe",
   "metadata": {},
   "source": [
    "## Filtering and Conditional Operations"
   ]
  },
  {
   "cell_type": "code",
   "execution_count": null,
   "id": "d488419d-6c2e-45f3-b3ce-22ef096a7033",
   "metadata": {},
   "outputs": [],
   "source": [
    "arr = np.array([10, 20, 30, 40, 50])\n",
    "\n",
    "# Where function\n",
    "print(\"Where > 30:\", np.where(arr > 30, arr, 0))\n",
    "\n",
    "# Select function\n",
    "conditions = [arr < 20, (arr >= 20) & (arr < 40), arr >= 40]\n",
    "choices = ['low', 'medium', 'high']\n",
    "print(\"Categorized:\", np.select(conditions, choices))"
   ]
  },
  {
   "cell_type": "markdown",
   "id": "ae03a6bc-dff6-438e-86fe-f193ef568b76",
   "metadata": {},
   "source": [
    "---------------"
   ]
  },
  {
   "cell_type": "markdown",
   "id": "9cc9b25b-c09f-4050-a662-86b50aca9750",
   "metadata": {},
   "source": [
    "# Linear Algebra Operations"
   ]
  },
  {
   "cell_type": "code",
   "execution_count": 67,
   "id": "6cb4010f-68bb-421d-98b3-48002690b122",
   "metadata": {},
   "outputs": [
    {
     "name": "stdout",
     "output_type": "stream",
     "text": [
      "Matrix product:\n",
      " [[19 22]\n",
      " [43 50]]\n",
      "Alternative matrix product:\n",
      " [[19 22]\n",
      " [43 50]]\n",
      "Matrix inverse:\n",
      " [[-2.   1. ]\n",
      " [ 1.5 -0.5]]\n",
      "Determinant: -2.0000000000000004\n",
      "Eigenvalues: [-0.37228132  5.37228132]\n",
      "Eigenvectors:\n",
      " [[-0.82456484 -0.41597356]\n",
      " [ 0.56576746 -0.90937671]]\n",
      "Solution to equations: [2. 3.]\n"
     ]
    }
   ],
   "source": [
    "# Matrix multiplication\n",
    "a = np.array([[1, 2], [3, 4]])\n",
    "b = np.array([[5, 6], [7, 8]])\n",
    "print(\"Matrix product:\\n\", np.dot(a, b))\n",
    "print(\"Alternative matrix product:\\n\", a @ b)\n",
    "\n",
    "# Matrix inverse\n",
    "mat = np.array([[1, 2], [3, 4]])\n",
    "inv_mat = np.linalg.inv(mat)\n",
    "print(\"Matrix inverse:\\n\", inv_mat)\n",
    "\n",
    "# Determinant\n",
    "print(\"Determinant:\", np.linalg.det(mat))\n",
    "\n",
    "# Eigenvalues and eigenvectors\n",
    "eigenvalues, eigenvectors = np.linalg.eig(mat)\n",
    "print(\"Eigenvalues:\", eigenvalues)\n",
    "print(\"Eigenvectors:\\n\", eigenvectors)\n",
    "\n",
    "# Solve linear equations\n",
    "# 3x + y = 9, x + 2y = 8\n",
    "A = np.array([[3, 1], [1, 2]])\n",
    "B = np.array([9, 8])\n",
    "solution = np.linalg.solve(A, B)\n",
    "print(\"Solution to equations:\", solution)"
   ]
  },
  {
   "cell_type": "markdown",
   "id": "3ee0f789-1374-44a0-9849-1346a716340f",
   "metadata": {},
   "source": [
    "--------------"
   ]
  },
  {
   "cell_type": "markdown",
   "id": "0d903eda-9017-49fc-9d32-0f8b58ec95ae",
   "metadata": {},
   "source": [
    "# Random Number Generation"
   ]
  },
  {
   "cell_type": "code",
   "execution_count": 68,
   "id": "9090ccd0-548a-45ad-a349-3d194b904381",
   "metadata": {},
   "outputs": [
    {
     "name": "stdout",
     "output_type": "stream",
     "text": [
      "Uniform random: [0.37454012 0.95071431 0.73199394 0.59865848 0.15601864]\n",
      "Normal random: [ 0.27904129  1.01051528 -0.58087813 -0.52516981 -0.57138017]\n",
      "Random integers: [5 8 0 9 2]\n",
      "Random choice: ['c' 'a' 'c' 'a' 'c']\n",
      "Shuffled array: [8 2 5 7 3 1 9 0 4 6]\n"
     ]
    }
   ],
   "source": [
    "# Set random seed for reproducibility\n",
    "np.random.seed(42)\n",
    "\n",
    "# Generate random numbers\n",
    "print(\"Uniform random:\", np.random.rand(5))  # 0-1\n",
    "print(\"Normal random:\", np.random.randn(5))  # standard normal\n",
    "\n",
    "# Random integers\n",
    "print(\"Random integers:\", np.random.randint(0, 10, size=5))\n",
    "\n",
    "# Random choice\n",
    "print(\"Random choice:\", np.random.choice(['a', 'b', 'c'], size=5))\n",
    "\n",
    "# Shuffle array\n",
    "arr = np.arange(10)\n",
    "np.random.shuffle(arr)\n",
    "print(\"Shuffled array:\", arr)"
   ]
  },
  {
   "cell_type": "markdown",
   "id": "34e8e49c-3469-44aa-baa6-97367ed6168a",
   "metadata": {},
   "source": [
    "----------------"
   ]
  },
  {
   "cell_type": "markdown",
   "id": "18b71580-b89d-4ed3-acd0-48b560ab2fc4",
   "metadata": {},
   "source": [
    "# Working with Missing Data"
   ]
  },
  {
   "cell_type": "code",
   "execution_count": 69,
   "id": "d290a330-d8dc-4420-aad5-4d31afad9129",
   "metadata": {},
   "outputs": [
    {
     "name": "stdout",
     "output_type": "stream",
     "text": [
      "Array with NaN: [ 1.  2. nan  4.  5.]\n",
      "Is NaN: [False False  True False False]\n",
      "Sum ignoring NaN: 12.0\n",
      "Mean ignoring NaN: 3.0\n",
      "Array after replacement: [1. 2. 0. 4. 5.]\n"
     ]
    }
   ],
   "source": [
    "# Create array with missing values\n",
    "arr = np.array([1, 2, np.nan, 4, 5])\n",
    "\n",
    "print(\"Array with NaN:\", arr)\n",
    "print(\"Is NaN:\", np.isnan(arr))\n",
    "print(\"Sum ignoring NaN:\", np.nansum(arr))\n",
    "print(\"Mean ignoring NaN:\", np.nanmean(arr))\n",
    "\n",
    "# Replace NaN with 0\n",
    "arr[np.isnan(arr)] = 0\n",
    "print(\"Array after replacement:\", arr)"
   ]
  },
  {
   "cell_type": "markdown",
   "id": "ed4976a0-0ca1-40b1-8955-9a3a3d84271e",
   "metadata": {},
   "source": [
    "---------"
   ]
  },
  {
   "cell_type": "markdown",
   "id": "2c0a0af7-91d1-490e-857a-d988dbc1a4a4",
   "metadata": {},
   "source": [
    "# Vectorized Operations"
   ]
  },
  {
   "cell_type": "code",
   "execution_count": 70,
   "id": "bd0c14d2-6ea8-425b-8b82-5f3c5e3a936a",
   "metadata": {},
   "outputs": [
    {
     "name": "stdout",
     "output_type": "stream",
     "text": [
      "172 ms ± 474 μs per loop (mean ± std. dev. of 7 runs, 10 loops each)\n",
      "3.76 ms ± 340 μs per loop (mean ± std. dev. of 7 runs, 100 loops each)\n"
     ]
    }
   ],
   "source": [
    "# Traditional Python approach (slow)\n",
    "def python_square(numbers):\n",
    "    result = []\n",
    "    for num in numbers:\n",
    "        result.append(num ** 2)\n",
    "    return result\n",
    "\n",
    "# NumPy vectorized approach (fast)\n",
    "def numpy_square(numbers):\n",
    "    return numbers ** 2\n",
    "\n",
    "# Compare performance\n",
    "large_array = np.arange(1_000_000)\n",
    "\n",
    "%timeit python_square(large_array)  # Much slower\n",
    "%timeit numpy_square(large_array)   # Much faster"
   ]
  },
  {
   "cell_type": "markdown",
   "id": "95282267-341f-40bd-b1ce-fe1bee24c3e9",
   "metadata": {},
   "source": [
    "----------------"
   ]
  },
  {
   "cell_type": "markdown",
   "id": "a78d3dc5-af83-4e02-95ee-4f2a9f7622ee",
   "metadata": {},
   "source": [
    "# Saving and Loading Arrays"
   ]
  },
  {
   "cell_type": "code",
   "execution_count": 71,
   "id": "522264fd-d470-49b4-ba58-c98a0d629416",
   "metadata": {},
   "outputs": [
    {
     "name": "stdout",
     "output_type": "stream",
     "text": [
      "Loaded array:\n",
      " [[0 1 2 3 4]\n",
      " [5 6 7 8 9]]\n",
      "Loaded from text:\n",
      " [[0. 1. 2. 3. 4.]\n",
      " [5. 6. 7. 8. 9.]]\n"
     ]
    }
   ],
   "source": [
    "# Create array to save\n",
    "arr = np.arange(10).reshape(2, 5)\n",
    "\n",
    "# Save to binary file\n",
    "np.save('my_array.npy', arr)\n",
    "\n",
    "# Load from binary file\n",
    "loaded_arr = np.load('my_array.npy')\n",
    "print(\"Loaded array:\\n\", loaded_arr)\n",
    "\n",
    "# Save to text file\n",
    "np.savetxt('my_array.txt', arr)\n",
    "\n",
    "# Load from text file\n",
    "loaded_txt = np.loadtxt('my_array.txt')\n",
    "print(\"Loaded from text:\\n\", loaded_txt)"
   ]
  },
  {
   "cell_type": "markdown",
   "id": "f4d769ac-47cd-4712-b609-2c019684af42",
   "metadata": {},
   "source": [
    "-----------"
   ]
  },
  {
   "cell_type": "markdown",
   "id": "f7b233e8-a5b2-4a60-9355-4af8f83da981",
   "metadata": {},
   "source": [
    "# Practical Data Analysis Example"
   ]
  },
  {
   "cell_type": "code",
   "execution_count": 73,
   "id": "92616776-66e9-4714-b0e4-1fcb0decd13d",
   "metadata": {},
   "outputs": [
    {
     "name": "stdout",
     "output_type": "stream",
     "text": [
      "Average scores: [85.         85.         84.33333333 88.33333333]\n",
      "Good students:\n",
      " [[85 88 92]]\n",
      "Normalized scores:\n",
      " [[0.29411765 0.58823529 0.88235294]\n",
      " [0.         1.         0.76470588]\n",
      " [0.88235294 0.17647059 0.58823529]\n",
      " [0.58823529 0.76470588 1.        ]]\n",
      "Correlation matrix:\n",
      " [[ 1.         -0.85206474 -0.30263639]\n",
      " [-0.85206474  1.          0.58090647]\n",
      " [-0.30263639  0.58090647  1.        ]]\n"
     ]
    }
   ],
   "source": [
    "# Load dataset (example: student scores)\n",
    "scores = np.array([\n",
    "    [80, 85, 90],  # student 1\n",
    "    [75, 92, 88],   # student 2\n",
    "    [90, 78, 85],   # student 3\n",
    "    [85, 88, 92]    # student 4\n",
    "])\n",
    "\n",
    "# Calculate average score per student\n",
    "print(\"Average scores:\", np.mean(scores, axis=1))\n",
    "\n",
    "# Find students with average > 85\n",
    "good_students = np.mean(scores, axis=1) > 85\n",
    "print(\"Good students:\\n\", scores[good_students])\n",
    "\n",
    "# Normalize scores (scale to 0-1)\n",
    "normalized = (scores - np.min(scores)) / (np.max(scores) - np.min(scores))\n",
    "print(\"Normalized scores:\\n\", normalized)\n",
    "\n",
    "# Calculate correlation between subjects\n",
    "correlation = np.corrcoef(scores.T)  # Transpose to correlate subjects\n",
    "print(\"Correlation matrix:\\n\", correlation)"
   ]
  },
  {
   "cell_type": "code",
   "execution_count": null,
   "id": "5cfaf93b-927f-4084-9ea1-a2e7eecb5bfc",
   "metadata": {},
   "outputs": [],
   "source": []
  }
 ],
 "metadata": {
  "kernelspec": {
   "display_name": "Python 3 (ipykernel)",
   "language": "python",
   "name": "python3"
  },
  "language_info": {
   "codemirror_mode": {
    "name": "ipython",
    "version": 3
   },
   "file_extension": ".py",
   "mimetype": "text/x-python",
   "name": "python",
   "nbconvert_exporter": "python",
   "pygments_lexer": "ipython3",
   "version": "3.12.6"
  }
 },
 "nbformat": 4,
 "nbformat_minor": 5
}
